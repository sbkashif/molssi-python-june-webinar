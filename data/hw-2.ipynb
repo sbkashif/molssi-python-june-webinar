{
 "cells": [
  {
   "cell_type": "markdown",
   "metadata": {},
   "source": [
    "# Geometry Analysis Homework Solution"
   ]
  },
  {
   "cell_type": "code",
   "execution_count": 95,
   "metadata": {},
   "outputs": [],
   "source": [
    "import numpy\n",
    "import os"
   ]
  },
  {
   "cell_type": "code",
   "execution_count": 96,
   "metadata": {},
   "outputs": [
    {
     "name": "stdout",
     "output_type": "stream",
     "text": [
      "[['O' '0.000000' '-0.007156' '0.965491']\n",
      " ['H1' '-0.000000' '0.001486' '-0.003471']\n",
      " ['H2' '0.000000' '0.931026' '1.207929']]\n"
     ]
    }
   ],
   "source": [
    "file_name=os.path.join('water.xyz')\n",
    "coord_file=numpy.genfromtxt(fname=file_name, skip_header=2,  dtype='unicode')\n",
    "print(coord_file)"
   ]
  },
  {
   "cell_type": "code",
   "execution_count": 97,
   "metadata": {},
   "outputs": [
    {
     "name": "stdout",
     "output_type": "stream",
     "text": [
      "['O' 'H1' 'H2']\n",
      "[[ 0.       -0.007156  0.965491]\n",
      " [-0.        0.001486 -0.003471]\n",
      " [ 0.        0.931026  1.207929]]\n"
     ]
    }
   ],
   "source": [
    "atom_type=coord_file[:,0]\n",
    "print(atom_type)\n",
    "coordinates=(coord_file[:,1:]).astype(numpy.float)\n",
    "print(coordinates)"
   ]
  },
  {
   "cell_type": "code",
   "execution_count": 98,
   "metadata": {},
   "outputs": [
    {
     "name": "stdout",
     "output_type": "stream",
     "text": [
      "{'O': array([ 0.      , -0.007156,  0.965491]), 'H1': array([-0.      ,  0.001486, -0.003471]), 'H2': array([0.      , 0.931026, 1.207929])}\n"
     ]
    }
   ],
   "source": [
    "coord_dict={}\n",
    "num_atoms=len(atom_type)\n",
    "for i in range(0,len(atom_type)):\n",
    "    coord_dict[atom_type[i]]=coordinates[i]\n",
    "print(coord_dict)"
   ]
  },
  {
   "cell_type": "markdown",
   "metadata": {},
   "source": [
    "$$ distance = \\sqrt((x1-x2)^2+(y1-y2)^2+(z1-zq)^2) $$"
   ]
  },
  {
   "cell_type": "code",
   "execution_count": 99,
   "metadata": {},
   "outputs": [
    {
     "name": "stdout",
     "output_type": "stream",
     "text": [
      "('O', array([ 0.      , -0.007156,  0.965491]))\n",
      "('H1', array([-0.      ,  0.001486, -0.003471]))\n",
      "('H2', array([0.      , 0.931026, 1.207929]))\n"
     ]
    }
   ],
   "source": [
    "for key in coord_dict.items():\n",
    "    print(key)"
   ]
  },
  {
   "cell_type": "code",
   "execution_count": 100,
   "metadata": {},
   "outputs": [
    {
     "name": "stdout",
     "output_type": "stream",
     "text": [
      "O to H1:0.9690005374652793\n",
      "O to H2:0.9690003348647513\n"
     ]
    }
   ],
   "source": [
    "num_atoms=len(atom_type)\n",
    "for num1 in range(0,num_atoms):\n",
    "    for num2 in range(0,num_atoms):\n",
    "        if num1<num2:\n",
    "            x_distance=coordinates[num1,0]-coordinates[num2,0]\n",
    "            y_distance=coordinates[num1,1]-coordinates[num2,1]\n",
    "            z_distance=coordinates[num1,2]-coordinates[num2,2]\n",
    "            distance_12=numpy.sqrt(x_distance**2+y_distance**2+z_distance**2)\n",
    "            if (distance_12<1.5):\n",
    "                print(F'{atom_type[num1]} to {atom_type[num2]}:{distance_12}')"
   ]
  }
 ],
 "metadata": {
  "kernelspec": {
   "display_name": "Python 3",
   "language": "python",
   "name": "python3"
  },
  "language_info": {
   "codemirror_mode": {
    "name": "ipython",
    "version": 3
   },
   "file_extension": ".py",
   "mimetype": "text/x-python",
   "name": "python",
   "nbconvert_exporter": "python",
   "pygments_lexer": "ipython3",
   "version": "3.7.6"
  }
 },
 "nbformat": 4,
 "nbformat_minor": 4
}
